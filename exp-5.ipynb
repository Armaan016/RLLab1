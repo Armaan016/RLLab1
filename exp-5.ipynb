{
 "cells": [
  {
   "cell_type": "markdown",
   "metadata": {},
   "source": [
    "### Deep Reinfocement Learning - Evolution Strategies - Chapter 5"
   ]
  },
  {
   "cell_type": "markdown",
   "metadata": {},
   "source": [
    "# Evolution Strategies - Code Breakdown for Test Study\n",
    "\n",
    "This notebook implements a **Genetic Algorithm** to evolve random strings into the target \"Hello World!\". Here are the key components you need to memorize:\n",
    "\n",
    "## Core Concepts:\n",
    "1. **Population**: A group of candidate solutions (Individual objects)\n",
    "2. **Fitness**: How close each string is to the target (0-1 similarity score)\n",
    "3. **Selection**: Choose parents based on fitness (fitness-proportional selection)\n",
    "4. **Crossover/Recombination**: Combine two parents to create offspring\n",
    "5. **Mutation**: Random changes to introduce variety\n",
    "6. **Evolution Loop**: Repeat selection → crossover → mutation for many generations"
   ]
  },
  {
   "cell_type": "code",
   "execution_count": 1,
   "metadata": {},
   "outputs": [],
   "source": [
    "import random\n",
    "from matplotlib import pyplot as plt"
   ]
  },
  {
   "cell_type": "markdown",
   "metadata": {},
   "source": [
    "## 1. Imports and Setup\n",
    "- `random`: For generating random numbers, choices, mutations\n",
    "- `matplotlib.pyplot`: For plotting the fitness evolution over generations"
   ]
  },
  {
   "cell_type": "code",
   "execution_count": 2,
   "metadata": {},
   "outputs": [],
   "source": [
    "alphabet = \"abcdefghijklmnopqrstuvwxyzABCDEFGHIJKLMNOPQRSTUVWXYZ,.! \"\n",
    "target = \"Hello World!\""
   ]
  },
  {
   "cell_type": "markdown",
   "metadata": {},
   "source": [
    "## 2. Problem Definition\n",
    "- **Alphabet**: All possible characters that can appear in our strings\n",
    "- **Target**: The string we want to evolve toward (\"Hello World!\")\n",
    "- The algorithm will try to create random strings that gradually become more similar to this target"
   ]
  },
  {
   "cell_type": "code",
   "execution_count": 3,
   "metadata": {},
   "outputs": [],
   "source": [
    "class Individual:\n",
    "    def __init__(self, string, fitness=0):\n",
    "        self.string = string\n",
    "        self.fitness = fitness"
   ]
  },
  {
   "cell_type": "markdown",
   "metadata": {},
   "source": [
    "## 3. Individual Class (Chromosome/Candidate Solution)\n",
    "**Key concept**: Each Individual represents one candidate solution in our population\n",
    "- `string`: The actual character sequence (genotype)\n",
    "- `fitness`: How good this solution is (0.0 = worst, 1.0 = perfect match)\n",
    "\n",
    "**Remember**: This is the basic building block of the population!"
   ]
  },
  {
   "cell_type": "code",
   "execution_count": 4,
   "metadata": {},
   "outputs": [],
   "source": [
    "from difflib import SequenceMatcher\n",
    "\n",
    "def similar(a, b):\n",
    "    return SequenceMatcher(None, a, b).ratio()"
   ]
  },
  {
   "cell_type": "markdown",
   "metadata": {},
   "source": [
    "## 4. Fitness Function\n",
    "**Critical for test**: This measures how \"good\" each solution is\n",
    "- Uses `SequenceMatcher` to compare two strings\n",
    "- Returns a ratio from 0.0 (completely different) to 1.0 (identical)\n",
    "- Example: similar(\"Hello\", \"Hallo\") might return 0.8\n",
    "\n",
    "**Remember**: Fitness guides selection - better individuals are more likely to reproduce!"
   ]
  },
  {
   "cell_type": "code",
   "execution_count": 5,
   "metadata": {},
   "outputs": [],
   "source": [
    "def spawn_population(length=26,size=100):\n",
    "    pop = []\n",
    "    for i in range(size):\n",
    "        string = ''.join(random.choices(alphabet,k=length))\n",
    "        individual = Individual(string)\n",
    "        pop.append(individual)\n",
    "    return pop"
   ]
  },
  {
   "cell_type": "markdown",
   "metadata": {},
   "source": [
    "## 5. Population Initialization\n",
    "**Key GA step**: Create the initial random population\n",
    "- Generates `size` number of random individuals\n",
    "- Each individual has a random string of specified `length`\n",
    "- Uses `random.choices(alphabet, k=length)` to pick random characters\n",
    "\n",
    "**Test tip**: This creates genetic diversity to start the evolution process!"
   ]
  },
  {
   "cell_type": "code",
   "execution_count": 6,
   "metadata": {},
   "outputs": [],
   "source": [
    "def mutate(x, mut_rate=0.01):\n",
    "    new_x_ = []\n",
    "    for char in x.string:\n",
    "        if random.random() < mut_rate:\n",
    "            new_x_.extend(random.choices(alphabet,k=1))\n",
    "        else:\n",
    "            new_x_.append(char)\n",
    "    new_x = Individual(''.join(new_x_))\n",
    "    return new_x"
   ]
  },
  {
   "cell_type": "markdown",
   "metadata": {},
   "source": [
    "## 6. Mutation Operator\n",
    "**Essential GA operator**: Introduces random changes to maintain diversity\n",
    "- For each character in the string:\n",
    "  - With probability `mut_rate` (e.g., 1%), replace with random character\n",
    "  - Otherwise, keep the original character\n",
    "- **Purpose**: Prevents getting stuck in local optima\n",
    "- **Balance**: Too high = chaos, too low = stagnation\n",
    "\n",
    "**Test key**: Mutation rate is usually small (0.001 to 0.1)"
   ]
  },
  {
   "cell_type": "code",
   "execution_count": 7,
   "metadata": {},
   "outputs": [],
   "source": [
    "def recombine(p1_, p2_): #produces two children from two parents\n",
    "    p1 = p1_.string\n",
    "    p2 = p2_.string\n",
    "    child1 = []\n",
    "    child2 = []\n",
    "    cross_pt = random.randint(0,len(p1))\n",
    "    child1.extend(p1[0:cross_pt])\n",
    "    child1.extend(p2[cross_pt:])\n",
    "    child2.extend(p2[0:cross_pt])\n",
    "    child2.extend(p1[cross_pt:])\n",
    "    c1 = Individual(''.join(child1))\n",
    "    c2 = Individual(''.join(child2))\n",
    "    return c1, c2"
   ]
  },
  {
   "cell_type": "markdown",
   "metadata": {},
   "source": [
    "## 7. Crossover/Recombination (Most Important!)\n",
    "**Core GA operator**: Combines two parents to create offspring\n",
    "- **Single-point crossover**: Pick random crossover point\n",
    "- **Child1**: Parent1[0:cross_pt] + Parent2[cross_pt:end]\n",
    "- **Child2**: Parent2[0:cross_pt] + Parent1[cross_pt:end]\n",
    "\n",
    "**Example**: \n",
    "- Parent1: \"Hello\" Parent2: \"World\" Cross_pt: 3\n",
    "- Child1: \"Hel\" + \"ld\" = \"Helld\" \n",
    "- Child2: \"Wor\" + \"lo\" = \"Worlo\"\n",
    "\n",
    "**Test crucial**: This mixes good traits from both parents!"
   ]
  },
  {
   "cell_type": "code",
   "execution_count": 8,
   "metadata": {},
   "outputs": [],
   "source": [
    "def evaluate_population(pop, target):\n",
    "    avg_fit = 0\n",
    "    for i in range(len(pop)):\n",
    "        fit = similar(pop[i].string, target)\n",
    "        pop[i].fitness = fit\n",
    "        avg_fit += fit\n",
    "    avg_fit /= len(pop)\n",
    "    return pop, avg_fit"
   ]
  },
  {
   "cell_type": "markdown",
   "metadata": {},
   "source": [
    "## 8. Population Evaluation\n",
    "**Key step**: Calculate fitness for every individual in the population\n",
    "- Loops through each individual\n",
    "- Calls `similar()` to compare with target\n",
    "- Updates each individual's fitness value\n",
    "- Returns population and average fitness\n",
    "\n",
    "**Remember**: This step is needed before selection can happen!"
   ]
  },
  {
   "cell_type": "code",
   "execution_count": 9,
   "metadata": {},
   "outputs": [],
   "source": [
    "def next_generation(pop, size=100, length=26, mut_rate=0.01):\n",
    "    new_pop = []\n",
    "    while len(new_pop) < size:\n",
    "        parents = random.choices(pop,k=2, weights=[x.fitness for x in pop])\n",
    "        offspring_ = recombine(parents[0],parents[1])\n",
    "        offspring = [mutate(offspring_[0], mut_rate=mut_rate), mutate(offspring_[1], mut_rate=mut_rate)]\n",
    "        new_pop.extend(offspring) #add offspring to next generation\n",
    "    return new_pop"
   ]
  },
  {
   "cell_type": "markdown",
   "metadata": {},
   "source": [
    "## 9. Next Generation Creation (The Heart of GA!)\n",
    "**Complete reproduction cycle**:\n",
    "1. **Selection**: `random.choices()` with fitness weights (fitness-proportional selection)\n",
    "2. **Crossover**: `recombine()` two parents → two offspring  \n",
    "3. **Mutation**: `mutate()` both offspring\n",
    "4. **Repeat** until new population is full\n",
    "\n",
    "**Test critical**: Higher fitness = higher chance of being selected as parent!\n",
    "- `weights=[x.fitness for x in pop]` makes fitter individuals more likely to reproduce"
   ]
  },
  {
   "cell_type": "code",
   "execution_count": 10,
   "metadata": {},
   "outputs": [],
   "source": [
    "pop = spawn_population(length=len(target))"
   ]
  },
  {
   "cell_type": "code",
   "execution_count": 11,
   "metadata": {},
   "outputs": [
    {
     "name": "stdout",
     "output_type": "stream",
     "text": [
      "0.10583333333333338\n"
     ]
    }
   ],
   "source": [
    "pop, avg_fit = evaluate_population(pop, target)\n",
    "print(avg_fit)"
   ]
  },
  {
   "cell_type": "code",
   "execution_count": 12,
   "metadata": {},
   "outputs": [],
   "source": [
    "new_pop = next_generation(pop, length=len(target))"
   ]
  },
  {
   "cell_type": "code",
   "execution_count": 13,
   "metadata": {},
   "outputs": [
    {
     "data": {
      "text/plain": [
       "0"
      ]
     },
     "execution_count": 13,
     "metadata": {},
     "output_type": "execute_result"
    }
   ],
   "source": [
    "new_pop[10].fitness"
   ]
  },
  {
   "cell_type": "code",
   "execution_count": 14,
   "metadata": {},
   "outputs": [],
   "source": [
    "num_generations = 100\n",
    "population_size = 3000\n",
    "str_len = len(target)\n",
    "mutation_rate = 0.001 # 0.1% mutation rate per character"
   ]
  },
  {
   "cell_type": "code",
   "execution_count": 15,
   "metadata": {},
   "outputs": [],
   "source": [
    "pop_fit = []\n",
    "pop = spawn_population(size=population_size, length=str_len) #initial population\n",
    "for gen in range(num_generations):\n",
    "    # trainning\n",
    "    pop, avg_fit = evaluate_population(pop, target)\n",
    "    pop_fit.append(avg_fit) #record population average fitness\n",
    "    new_pop = next_generation(pop, size=population_size, length=str_len, mut_rate=mutation_rate)\n",
    "    pop = new_pop"
   ]
  },
  {
   "cell_type": "markdown",
   "metadata": {},
   "source": [
    "## 10. Main Evolution Loop\n",
    "**The complete GA algorithm**:\n",
    "```\n",
    "FOR each generation:\n",
    "    1. Evaluate population fitness\n",
    "    2. Record average fitness (for plotting)\n",
    "    3. Create next generation (selection + crossover + mutation)\n",
    "    4. Replace old population\n",
    "```\n",
    "\n",
    "**Parameters to memorize**:\n",
    "- 100 generations\n",
    "- 3000 population size  \n",
    "- 0.001 mutation rate (0.1% per character)\n",
    "\n",
    "**Result**: Population evolves toward the target string over time!"
   ]
  },
  {
   "cell_type": "code",
   "execution_count": 16,
   "metadata": {},
   "outputs": [
    {
     "data": {
      "text/plain": [
       "[<matplotlib.lines.Line2D at 0x28ec0c84990>]"
      ]
     },
     "execution_count": 16,
     "metadata": {},
     "output_type": "execute_result"
    },
    {
     "data": {
      "image/png": "[encoded data removed]",
      "text/plain": [
       "<Figure size 1000x500 with 1 Axes>"
      ]
     },
     "metadata": {},
     "output_type": "display_data"
    }
   ],
   "source": [
    "plt.figure(figsize=(10,5))\n",
    "plt.xlabel(\"Generations\")\n",
    "plt.ylabel(\"Fitness\")\n",
    "plt.plot(pop_fit)"
   ]
  },
  {
   "cell_type": "code",
   "execution_count": 17,
   "metadata": {},
   "outputs": [],
   "source": [
    "pop.sort(key=lambda x: x.fitness, reverse=True) #sort in place, highest fitness first"
   ]
  },
  {
   "cell_type": "code",
   "execution_count": 18,
   "metadata": {},
   "outputs": [
    {
     "data": {
      "text/plain": [
       "'Hello World!'"
      ]
     },
     "execution_count": 18,
     "metadata": {},
     "output_type": "execute_result"
    }
   ],
   "source": [
    "pop[0].string"
   ]
  },
  {
   "cell_type": "markdown",
   "metadata": {},
   "source": [
    "## Key Points for Your Test:\n",
    "\n",
    "### GA Algorithm Steps (memorize this order!):\n",
    "1. **Initialize** random population\n",
    "2. **Evaluate** fitness of all individuals  \n",
    "3. **Select** parents (fitness-proportional)\n",
    "4. **Crossover** parents to create offspring\n",
    "5. **Mutate** offspring \n",
    "6. **Replace** old population with new generation\n",
    "7. **Repeat** steps 2-6 until convergence\n",
    "\n",
    "### Critical Concepts:\n",
    "- **Fitness Function**: Measures solution quality (0.0 to 1.0)\n",
    "- **Selection Pressure**: Better fitness = more likely to reproduce\n",
    "- **Crossover**: Combines good traits from two parents\n",
    "- **Mutation**: Maintains diversity, prevents local optima\n",
    "- **Population Size**: Larger = more diversity but slower\n",
    "- **Mutation Rate**: Usually 0.1% to 5% per gene\n",
    "\n",
    "### This Example:\n",
    "- **Problem**: Evolve strings to match \"Hello World!\"\n",
    "- **Representation**: String of characters\n",
    "- **Fitness**: String similarity (SequenceMatcher ratio)\n",
    "- **Selection**: Fitness-proportional (weighted random)\n",
    "- **Crossover**: Single-point crossover\n",
    "- **Mutation**: Random character replacement"
   ]
  },
  {
   "cell_type": "code",
   "execution_count": null,
   "metadata": {},
   "outputs": [],
   "source": []
  }
 ],
 "metadata": {
  "kernelspec": {
   "display_name": "Python 3",
   "language": "python",
   "name": "python3"
  },
  "language_info": {
   "codemirror_mode": {
    "name": "ipython",
    "version": 3
   },
   "file_extension": ".py",
   "mimetype": "text/x-python",
   "name": "python",
   "nbconvert_exporter": "python",
   "pygments_lexer": "ipython3",
   "version": "3.11.3"
  }
 },
 "nbformat": 4,
 "nbformat_minor": 4
}
